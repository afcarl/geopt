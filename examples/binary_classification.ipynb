{
 "cells": [
  {
   "cell_type": "code",
   "execution_count": 1,
   "metadata": {},
   "outputs": [],
   "source": [
    "%load_ext autoreload\n",
    "%autoreload 2\n",
    "\n",
    "import sys\n",
    "sys.path.append('..')"
   ]
  },
  {
   "cell_type": "markdown",
   "metadata": {},
   "source": [
    "# Performance of GeOpt on a binary classification task: Breast cancer diagnostic"
   ]
  },
  {
   "cell_type": "code",
   "execution_count": 2,
   "metadata": {},
   "outputs": [
    {
     "name": "stdout",
     "output_type": "stream",
     "text": [
      "train size: 113/569 samples\n"
     ]
    }
   ],
   "source": [
    "import numpy as np\n",
    "import sympy\n",
    "sympy.init_printing()\n",
    "import sklearn.datasets\n",
    "X, Y = sklearn.datasets.load_breast_cancer(True)\n",
    "\n",
    "\n",
    "def shuffle_arrays(X, Y):\n",
    "    \"\"\"\n",
    "    Shuffles the first dimension of the given arrays\n",
    "    returns nothing \n",
    "    \"\"\"\n",
    "    rnd_state = np.random.get_state()\n",
    "    np.random.shuffle(X)\n",
    "    np.random.set_state(rnd_state)\n",
    "    np.random.shuffle(Y)\n",
    "\n",
    "\n",
    "shuffle_arrays(X, Y)\n",
    "\n",
    "n = len(X)\n",
    "ntrain = int(n * .2)\n",
    "x_train, y_train = X[:ntrain], Y[:ntrain]\n",
    "x_test, y_test = X[ntrain:], Y[ntrain:]\n",
    "\n",
    "print('train size: %s/%s samples' % (ntrain, n))\n",
    "\n",
    "from geopt.metrics import *\n",
    "\n",
    "\n",
    "def fit(tree):\n",
    "    pred = tree.evaluate(*x_train.T)[0]\n",
    "    if np.isnan(pred).any():\n",
    "        return float('-inf')\n",
    "    return roc_auc_score(y_train, pred)"
   ]
  },
  {
   "cell_type": "code",
   "execution_count": 3,
   "metadata": {},
   "outputs": [
    {
     "data": {
      "application/vnd.jupyter.widget-view+json": {
       "model_id": "ca8ee719981c49b2a7c9c72e23ea610d"
      }
     },
     "metadata": {},
     "output_type": "display_data"
    },
    {
     "name": "stdout",
     "output_type": "stream",
     "text": [
      "\n",
      "Area under ROC curve for training data: 0.990365448505\n"
     ]
    },
    {
     "data": {
      "application/vnd.jupyter.widget-view+json": {
       "model_id": "68caf3e37e4944899715806abdd11ccd"
      }
     },
     "metadata": {},
     "output_type": "display_data"
    },
    {
     "name": "stdout",
     "output_type": "stream",
     "text": [
      "\n",
      "Area under ROC curve for training data: 1.0\n"
     ]
    },
    {
     "data": {
      "image/png": "[encoded data removed]",
      "text/latex": [
       "$$- \\frac{input_{15}}{input_{24}} + \\frac{input_{18} input_{22}}{\\sqrt{input_{29}^{2}}} - input_{2} - input_{24} input_{25} - input_{9}$$"
      ],
      "text/plain": [
       "  input₁₅   input₁₈⋅input₂₂                                    \n",
       "- ─────── + ─────────────── - input₂ - input₂₄⋅input₂₅ - input₉\n",
       "  input₂₄       __________                                     \n",
       "               ╱        2                                      \n",
       "             ╲╱  input₂₉                                       "
      ]
     },
     "execution_count": 3,
     "metadata": {},
     "output_type": "execute_result"
    }
   ],
   "source": [
    "from geopt import Evolution\n",
    "from geopt import operations\n",
    "from tqdm import tnrange\n",
    "\n",
    "\n",
    "E = Evolution(30, 100, 1, popsize=20, bestsize=3,\n",
    "              newgen=5, ops=operations.ops)\n",
    "\n",
    "\n",
    "pop = E.bestpop(10, 10, fit, .3, range=tnrange)\n",
    "\n",
    "print('Area under ROC curve for training data:', fit(pop[0]))\n",
    "for _ in tnrange(50):\n",
    "    pop = E.evolve(pop, fit, None)\n",
    "print('Area under ROC curve for training data:', fit(pop[0]))\n",
    "t = pop[0]\n",
    "t.expr[0]"
   ]
  },
  {
   "cell_type": "code",
   "execution_count": 4,
   "metadata": {
    "collapsed": true
   },
   "outputs": [],
   "source": [
    "import matplotlib\n",
    "matplotlib.rcParams['figure.figsize'] = [16, 8]\n",
    "import matplotlib.pyplot as plt"
   ]
  },
  {
   "cell_type": "code",
   "execution_count": 5,
   "metadata": {},
   "outputs": [
    {
     "data": {
      "image/png": "[encoded data removed]",
      "text/plain": [
       "<matplotlib.figure.Figure at 0xab6b940>"
      ]
     },
     "metadata": {},
     "output_type": "display_data"
    }
   ],
   "source": [
    "pred = t.evaluate(*x_train.T)[0]\n",
    "fpr, tpr, thresholds = roc_curve(y_train, pred)\n",
    "plt.title('ROC curve of train data')\n",
    "plt.plot(fpr, tpr, color='darkorange',\n",
    "         label='ROC curve (area = %0.2f)' % roc_auc_score(y_train, pred))\n",
    "plt.legend(loc=\"lower right\")\n",
    "plt.show()"
   ]
  },
  {
   "cell_type": "code",
   "execution_count": 6,
   "metadata": {},
   "outputs": [
    {
     "data": {
      "image/png": "[encoded data removed]",
      "text/plain": [
       "<matplotlib.figure.Figure at 0xc2f62e8>"
      ]
     },
     "metadata": {},
     "output_type": "display_data"
    }
   ],
   "source": [
    "pred = t.evaluate(*x_test.T)[0]\n",
    "fpr, tpr, thresholds = roc_curve(y_test, pred)\n",
    "plt.title('ROC curve of test data')\n",
    "plt.plot(fpr, tpr, color='darkorange',\n",
    "         label='ROC curve (area = %0.2f)' % roc_auc_score(y_test, pred))\n",
    "plt.legend(loc=\"lower right\")\n",
    "plt.show()"
   ]
  },
  {
   "cell_type": "code",
   "execution_count": 7,
   "metadata": {},
   "outputs": [
    {
     "name": "stdout",
     "output_type": "stream",
     "text": [
      "0.947368421053\n"
     ]
    }
   ],
   "source": [
    "print(accuracy(t.evaluate(*x_test.T) >=\n",
    "               optimum_threshold(y_train, t.evaluate(*x_train.T)[0]), y_test))"
   ]
  },
  {
   "cell_type": "markdown",
   "metadata": {},
   "source": [
    "# Ensemble learning"
   ]
  },
  {
   "cell_type": "code",
   "execution_count": 8,
   "metadata": {},
   "outputs": [
    {
     "data": {
      "application/vnd.jupyter.widget-view+json": {
       "model_id": "c5147613eac444c8b11e590d45d2d717"
      }
     },
     "metadata": {},
     "output_type": "display_data"
    },
    {
     "name": "stdout",
     "output_type": "stream",
     "text": [
      "\n"
     ]
    }
   ],
   "source": [
    "classifier_number = 5\n",
    "\n",
    "ens = [max(E.evolvepop(50, E.bestpop(10, 10, fit, .3), fit, None), key=fit) for _ in tnrange(classifier_number)]\n",
    "ens_ths = [optimum_threshold(y_train, t.evaluate(*x_train.T)[0]) for t in ens]"
   ]
  },
  {
   "cell_type": "code",
   "execution_count": 9,
   "metadata": {
    "collapsed": true
   },
   "outputs": [],
   "source": [
    "def evaluate(ens, ens_ths, X):\n",
    "    return np.array([t.evaluate(*X.T)[0] >= th for t, th in zip(ens, ens_ths)]).mean(axis=0)"
   ]
  },
  {
   "cell_type": "code",
   "execution_count": 10,
   "metadata": {},
   "outputs": [
    {
     "data": {
      "image/png": "[encoded data removed]",
      "text/latex": [
       "$$\\left [ input_{28} \\left(- input_{24} - \\frac{input_{27}}{input_{25} - input_{9}}\\right) - \\log{\\left (input_{3}^{2} \\right )}, \\quad - input_{25} \\left(\\frac{input_{13}}{input_{16}} + input_{24}\\right) + \\frac{1}{\\sqrt{input_{2}} \\sqrt{input_{23}}} \\left(- input_{17} input_{9} \\left(input_{2} + input_{7}\\right) + \\frac{input_{18}}{input_{12}}\\right), \\quad \\left(input_{17} - input_{27}\\right) \\left(input_{24} - input_{27} + input_{7} + \\left(- input_{1} input_{12} + input_{12}\\right) \\log{\\left (input_{16} \\right )}\\right), \\quad - input_{2}^{2} input_{27} \\left(- input_{17} - input_{21}\\right)^{2}, \\quad input_{11} - input_{2} - input_{23} \\sqrt{input_{24}} input_{25}\\right ]$$"
      ],
      "text/plain": [
       "⎡                                                                             \n",
       "⎢                                                                             \n",
       "⎢        ⎛               input₂₇     ⎞      ⎛      2⎞            ⎛input₁₃     \n",
       "⎢input₂₈⋅⎜-input₂₄ - ────────────────⎟ - log⎝input₃ ⎠, - input₂₅⋅⎜─────── + in\n",
       "⎢        ⎝           input₂₅ - input₉⎠                           ⎝input₁₆     \n",
       "⎣                                                                             \n",
       "\n",
       "                                             input₁₈                          \n",
       "         -input₁₇⋅input₉⋅(input₂ + input₇) + ───────                          \n",
       "     ⎞                                       input₁₂                          \n",
       "put₂₄⎟ + ───────────────────────────────────────────, (input₁₇ - input₂₇)⋅(inp\n",
       "     ⎠                ________   _________                                    \n",
       "                    ╲╱ input₂ ⋅╲╱ input₂₃                                     \n",
       "\n",
       "                                                                              \n",
       "                                                                              \n",
       "                                                                            2 \n",
       "ut₂₄ - input₂₇ + input₇ + (-input₁⋅input₁₂ + input₁₂)⋅log(input₁₆)), -input₂ ⋅\n",
       "                                                                              \n",
       "                                                                              \n",
       "\n",
       "                                                                             ⎤\n",
       "                                                                             ⎥\n",
       "                            2                               _________        ⎥\n",
       "input₂₇⋅(-input₁₇ - input₂₁) , input₁₁ - input₂ - input₂₃⋅╲╱ input₂₄ ⋅input₂₅⎥\n",
       "                                                                             ⎥\n",
       "                                                                             ⎦"
      ]
     },
     "execution_count": 10,
     "metadata": {},
     "output_type": "execute_result"
    }
   ],
   "source": [
    "[e.expr[0] for e in ens]"
   ]
  },
  {
   "cell_type": "code",
   "execution_count": 11,
   "metadata": {},
   "outputs": [
    {
     "name": "stdout",
     "output_type": "stream",
     "text": [
      "Accuracy of each one\n"
     ]
    },
    {
     "data": {
      "image/png": "[encoded data removed]",
      "text/latex": [
       "$$\\left [ 0.938596491228, \\quad 0.921052631579, \\quad 0.923245614035, \\quad 0.936403508772, \\quad 0.936403508772\\right ]$$"
      ],
      "text/plain": [
       "[0.938596491228, 0.921052631579, 0.923245614035, 0.936403508772, 0.93640350877\n",
       "2]"
      ]
     },
     "execution_count": 11,
     "metadata": {},
     "output_type": "execute_result"
    }
   ],
   "source": [
    "print('Accuracy of each one')\n",
    "[accuracy(evaluate([t], [th], x_test) >= .5, y_test) for t, th in zip(ens, ens_ths)]"
   ]
  },
  {
   "cell_type": "code",
   "execution_count": 12,
   "metadata": {},
   "outputs": [
    {
     "name": "stdout",
     "output_type": "stream",
     "text": [
      "Frequencies of the votes:\n"
     ]
    },
    {
     "data": {
      "image/png": "[encoded data removed]",
      "text/latex": [
       "$$\\left \\{ 0.0 : 144, \\quad 0.2 : 16, \\quad 0.4 : 13, \\quad 0.6 : 26, \\quad 0.8 : 21, \\quad 1.0 : 236\\right \\}$$"
      ],
      "text/plain": [
       "Counter({0.0: 144, 0.2: 16, 0.4: 13, 0.6: 26, 0.8: 21, 1.0: 236})"
      ]
     },
     "execution_count": 12,
     "metadata": {},
     "output_type": "execute_result"
    }
   ],
   "source": [
    "from collections import Counter\n",
    "print('Frequencies of the votes:')\n",
    "Counter(evaluate(ens, ens_ths, x_test))"
   ]
  },
  {
   "cell_type": "code",
   "execution_count": 13,
   "metadata": {},
   "outputs": [
    {
     "name": "stdout",
     "output_type": "stream",
     "text": [
      "Accuracy of the group\n"
     ]
    },
    {
     "data": {
      "image/png": "[encoded data removed]",
      "text/latex": [
       "$$0.956140350877$$"
      ],
      "text/plain": [
       "0.956140350877"
      ]
     },
     "execution_count": 13,
     "metadata": {},
     "output_type": "execute_result"
    }
   ],
   "source": [
    "print('Accuracy of the group')\n",
    "accuracy(evaluate(ens, ens_ths, x_test) >= .5, y_test)"
   ]
  }
 ],
 "metadata": {
  "kernelspec": {
   "display_name": "Python 3",
   "language": "python",
   "name": "python3"
  },
  "language_info": {
   "codemirror_mode": {
    "name": "ipython",
    "version": 3
   },
   "file_extension": ".py",
   "mimetype": "text/x-python",
   "name": "python",
   "nbconvert_exporter": "python",
   "pygments_lexer": "ipython3",
   "version": "3.5.4"
  },
  "toc": {
   "colors": {
    "hover_highlight": "#DAA520",
    "navigate_num": "#000000",
    "navigate_text": "#333333",
    "running_highlight": "#FF0000",
    "selected_highlight": "#FFD700",
    "sidebar_border": "#EEEEEE",
    "wrapper_background": "#FFFFFF"
   },
   "moveMenuLeft": false,
   "nav_menu": {
    "height": "47px",
    "width": "252px"
   },
   "navigate_menu": true,
   "number_sections": false,
   "sideBar": true,
   "skipTitle": true,
   "threshold": 4,
   "toc_cell": false,
   "toc_section_display": "block",
   "toc_window_display": false,
   "widenNotebook": false
  }
 },
 "nbformat": 4,
 "nbformat_minor": 2
}
